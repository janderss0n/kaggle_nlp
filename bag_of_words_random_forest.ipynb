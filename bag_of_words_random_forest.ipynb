{
 "cells": [
  {
   "cell_type": "code",
   "execution_count": 1,
   "metadata": {},
   "outputs": [
    {
     "data": {
      "text/plain": [
       "'/anaconda3/envs/kaggle_nlp/bin/python'"
      ]
     },
     "execution_count": 1,
     "metadata": {},
     "output_type": "execute_result"
    }
   ],
   "source": [
    "import sys\n",
    "sys.executable"
   ]
  },
  {
   "cell_type": "code",
   "execution_count": 69,
   "metadata": {},
   "outputs": [],
   "source": [
    "import pandas as pd\n",
    "from sklearn.model_selection import train_test_split"
   ]
  },
  {
   "cell_type": "code",
   "execution_count": 70,
   "metadata": {},
   "outputs": [],
   "source": [
    "data = pd.read_csv('./word2vec-nlp-tutorial/labeledTrainData.tsv', header=0,\n",
    "                   delimiter='\\t', quoting=3)"
   ]
  },
  {
   "cell_type": "code",
   "execution_count": 72,
   "metadata": {},
   "outputs": [],
   "source": [
    "split_index = train_test_split(data.index, test_size=0.20)\n",
    "train = data.iloc[split_index[0],:]\n",
    "validation = data.iloc[split_index[1],:]"
   ]
  },
  {
   "cell_type": "code",
   "execution_count": 74,
   "metadata": {},
   "outputs": [
    {
     "name": "stdout",
     "output_type": "stream",
     "text": [
      "(20000, 3)\n",
      "(5000, 3)\n"
     ]
    }
   ],
   "source": [
    "print(train.shape)\n",
    "print(validation.shape)"
   ]
  },
  {
   "cell_type": "code",
   "execution_count": 75,
   "metadata": {},
   "outputs": [
    {
     "data": {
      "text/plain": [
       "array(['id', 'sentiment', 'review'], dtype=object)"
      ]
     },
     "execution_count": 75,
     "metadata": {},
     "output_type": "execute_result"
    }
   ],
   "source": [
    "train.columns.values"
   ]
  },
  {
   "cell_type": "code",
   "execution_count": 88,
   "metadata": {},
   "outputs": [
    {
     "data": {
      "text/plain": [
       "'\"This is a case of a bunch of people thinking they are so clever they have a story that fits the time. Remember the all-around political conspiracies caught on camera in the years leading to the Watergate and a little later? Most movies trying to cash in on made-for-TV \\'o so powerful, o so mind numbing\\' conspiracies were in fact caught in their own navel-gazing attitude.<br /><br />I was never a fan of The Conversation which I find as much dated as others conspiracy stints of the time but Coppola was true to his main character and Hackman was a pretty engaging actor to observe. I mean these conspiracy movies are mostly drowning in the character pool of noir heroes. Lots of questions unanswered, lots of dis-communication... Well this takes at least Bergman to build a movie about such un-visual bases.<br /><br />The Next Man is a perfect example of its time: one political soup served with an idealistic character and an horrendous conspiracy tightening its web around him. Neither part is interesting in itself and the whole doesn\\'t get any better. In fact you can tell how much it will be bad from the very first sequences piling up \\'watcha that\\' murders without ever advancing any storyline. Pedestrian directing at its worst as most of the movie is one pompous accumulation of scenes revolving around violence naively brought under the viewer\\'s eyes.\"'"
      ]
     },
     "execution_count": 88,
     "metadata": {},
     "output_type": "execute_result"
    }
   ],
   "source": [
    "train.iloc[0,:].review"
   ]
  },
  {
   "cell_type": "markdown",
   "metadata": {},
   "source": [
    "# Data cleaning and text preprocessing"
   ]
  },
  {
   "cell_type": "code",
   "execution_count": null,
   "metadata": {},
   "outputs": [],
   "source": [
    "#import nltk\n",
    "#nltk.download() #May be done once per computer"
   ]
  },
  {
   "cell_type": "code",
   "execution_count": 7,
   "metadata": {},
   "outputs": [],
   "source": [
    "from bs4 import BeautifulSoup\n",
    "import re\n",
    "from nltk.corpus import stopwords"
   ]
  },
  {
   "cell_type": "code",
   "execution_count": 30,
   "metadata": {},
   "outputs": [],
   "source": [
    "def remove_html(raw_text):\n",
    "    return BeautifulSoup(raw_text).get_text()\n",
    "\n",
    "\n",
    "def remove_non_english_letters(text):\n",
    "    return re.sub('[^A-Za-z]', ' ', text)\n",
    "\n",
    "\n",
    "def convert_to_lower_case(text):\n",
    "    return text.lower()\n",
    "\n",
    "\n",
    "def split_text_into_individual_words(text):\n",
    "    return text.split()\n",
    "\n",
    "\n",
    "def remove_stopwords(words):\n",
    "    def set_of_stopwords():\n",
    "        return set(stopwords.words('english'))\n",
    "    \n",
    "    english_stopwords = set_of_stopwords()\n",
    "    return [w for w in words if not w in english_stopwords]\n",
    "\n",
    "\n",
    "def words_to_one_string(words):\n",
    "    return ' '.join(words)\n",
    "\n",
    "\n",
    "def clean_and_process_text(raw_text):\n",
    "    text = remove_html(raw_text)\n",
    "    only_letters = remove_non_english_letters(text)\n",
    "    lower_case = convert_to_lower_case(only_letters)\n",
    "    words = split_text_into_individual_words(lower_case)\n",
    "    important_words = remove_stopwords(words)\n",
    "    return words_to_one_string(important_words)"
   ]
  },
  {
   "cell_type": "code",
   "execution_count": 90,
   "metadata": {},
   "outputs": [
    {
     "name": "stderr",
     "output_type": "stream",
     "text": [
      "/anaconda3/envs/kaggle_nlp/lib/python3.7/site-packages/ipykernel_launcher.py:1: SettingWithCopyWarning: \n",
      "A value is trying to be set on a copy of a slice from a DataFrame.\n",
      "Try using .loc[row_indexer,col_indexer] = value instead\n",
      "\n",
      "See the caveats in the documentation: http://pandas.pydata.org/pandas-docs/stable/indexing.html#indexing-view-versus-copy\n",
      "  \"\"\"Entry point for launching an IPython kernel.\n"
     ]
    }
   ],
   "source": [
    "train['clean_review'] = train.review.apply(clean_and_process_text)"
   ]
  },
  {
   "cell_type": "code",
   "execution_count": 91,
   "metadata": {},
   "outputs": [
    {
     "data": {
      "text/html": [
       "<div>\n",
       "<style scoped>\n",
       "    .dataframe tbody tr th:only-of-type {\n",
       "        vertical-align: middle;\n",
       "    }\n",
       "\n",
       "    .dataframe tbody tr th {\n",
       "        vertical-align: top;\n",
       "    }\n",
       "\n",
       "    .dataframe thead th {\n",
       "        text-align: right;\n",
       "    }\n",
       "</style>\n",
       "<table border=\"1\" class=\"dataframe\">\n",
       "  <thead>\n",
       "    <tr style=\"text-align: right;\">\n",
       "      <th></th>\n",
       "      <th>id</th>\n",
       "      <th>sentiment</th>\n",
       "      <th>review</th>\n",
       "      <th>clean_review</th>\n",
       "    </tr>\n",
       "  </thead>\n",
       "  <tbody>\n",
       "    <tr>\n",
       "      <th>8053</th>\n",
       "      <td>\"12275_2\"</td>\n",
       "      <td>0</td>\n",
       "      <td>\"This is a case of a bunch of people thinking ...</td>\n",
       "      <td>case bunch people thinking clever story fits t...</td>\n",
       "    </tr>\n",
       "    <tr>\n",
       "      <th>3192</th>\n",
       "      <td>\"9288_8\"</td>\n",
       "      <td>1</td>\n",
       "      <td>\"I found this to be a surprisingly light-hande...</td>\n",
       "      <td>found surprisingly light handed touch culture ...</td>\n",
       "    </tr>\n",
       "    <tr>\n",
       "      <th>3529</th>\n",
       "      <td>\"7469_10\"</td>\n",
       "      <td>1</td>\n",
       "      <td>\"This film was just absolutly brilliant. It ac...</td>\n",
       "      <td>film absolutly brilliant actually made think w...</td>\n",
       "    </tr>\n",
       "    <tr>\n",
       "      <th>14853</th>\n",
       "      <td>\"8591_7\"</td>\n",
       "      <td>1</td>\n",
       "      <td>\"This was a pretty decent movie. This movie is...</td>\n",
       "      <td>pretty decent movie movie good sit watch enter...</td>\n",
       "    </tr>\n",
       "    <tr>\n",
       "      <th>16228</th>\n",
       "      <td>\"9540_8\"</td>\n",
       "      <td>1</td>\n",
       "      <td>\"Most of the feedback I've heard concerning Me...</td>\n",
       "      <td>feedback heard concerning meatball machine pre...</td>\n",
       "    </tr>\n",
       "  </tbody>\n",
       "</table>\n",
       "</div>"
      ],
      "text/plain": [
       "              id  sentiment  \\\n",
       "8053   \"12275_2\"          0   \n",
       "3192    \"9288_8\"          1   \n",
       "3529   \"7469_10\"          1   \n",
       "14853   \"8591_7\"          1   \n",
       "16228   \"9540_8\"          1   \n",
       "\n",
       "                                                  review  \\\n",
       "8053   \"This is a case of a bunch of people thinking ...   \n",
       "3192   \"I found this to be a surprisingly light-hande...   \n",
       "3529   \"This film was just absolutly brilliant. It ac...   \n",
       "14853  \"This was a pretty decent movie. This movie is...   \n",
       "16228  \"Most of the feedback I've heard concerning Me...   \n",
       "\n",
       "                                            clean_review  \n",
       "8053   case bunch people thinking clever story fits t...  \n",
       "3192   found surprisingly light handed touch culture ...  \n",
       "3529   film absolutly brilliant actually made think w...  \n",
       "14853  pretty decent movie movie good sit watch enter...  \n",
       "16228  feedback heard concerning meatball machine pre...  "
      ]
     },
     "execution_count": 91,
     "metadata": {},
     "output_type": "execute_result"
    }
   ],
   "source": [
    "train.head()"
   ]
  },
  {
   "cell_type": "markdown",
   "metadata": {},
   "source": [
    "# Create Features from Bag of Words"
   ]
  },
  {
   "cell_type": "code",
   "execution_count": 36,
   "metadata": {},
   "outputs": [],
   "source": [
    "from sklearn.feature_extraction.text import CountVectorizer"
   ]
  },
  {
   "cell_type": "code",
   "execution_count": 92,
   "metadata": {},
   "outputs": [],
   "source": [
    "vectorizer = CountVectorizer(analyzer='word',\n",
    "                            tokenizer=None,\n",
    "                            preprocessor=None,\n",
    "                            stop_words=None,\n",
    "                            max_features=5000)\n",
    "train_features = vectorizer.fit_transform(train['clean_review'])\n",
    "train_features = pd.DataFrame(train_features.toarray())\n",
    "train_features.columns = vectorizer.get_feature_names()"
   ]
  },
  {
   "cell_type": "code",
   "execution_count": 93,
   "metadata": {},
   "outputs": [
    {
     "data": {
      "text/html": [
       "<div>\n",
       "<style scoped>\n",
       "    .dataframe tbody tr th:only-of-type {\n",
       "        vertical-align: middle;\n",
       "    }\n",
       "\n",
       "    .dataframe tbody tr th {\n",
       "        vertical-align: top;\n",
       "    }\n",
       "\n",
       "    .dataframe thead th {\n",
       "        text-align: right;\n",
       "    }\n",
       "</style>\n",
       "<table border=\"1\" class=\"dataframe\">\n",
       "  <thead>\n",
       "    <tr style=\"text-align: right;\">\n",
       "      <th></th>\n",
       "      <th>abandoned</th>\n",
       "      <th>abc</th>\n",
       "      <th>abilities</th>\n",
       "      <th>ability</th>\n",
       "      <th>able</th>\n",
       "      <th>abraham</th>\n",
       "      <th>absence</th>\n",
       "      <th>absent</th>\n",
       "      <th>absolute</th>\n",
       "      <th>absolutely</th>\n",
       "      <th>...</th>\n",
       "      <th>york</th>\n",
       "      <th>young</th>\n",
       "      <th>younger</th>\n",
       "      <th>youngest</th>\n",
       "      <th>youth</th>\n",
       "      <th>zero</th>\n",
       "      <th>zizek</th>\n",
       "      <th>zombie</th>\n",
       "      <th>zombies</th>\n",
       "      <th>zone</th>\n",
       "    </tr>\n",
       "  </thead>\n",
       "  <tbody>\n",
       "    <tr>\n",
       "      <th>0</th>\n",
       "      <td>0</td>\n",
       "      <td>0</td>\n",
       "      <td>0</td>\n",
       "      <td>0</td>\n",
       "      <td>0</td>\n",
       "      <td>0</td>\n",
       "      <td>0</td>\n",
       "      <td>0</td>\n",
       "      <td>0</td>\n",
       "      <td>0</td>\n",
       "      <td>...</td>\n",
       "      <td>0</td>\n",
       "      <td>0</td>\n",
       "      <td>0</td>\n",
       "      <td>0</td>\n",
       "      <td>0</td>\n",
       "      <td>0</td>\n",
       "      <td>0</td>\n",
       "      <td>0</td>\n",
       "      <td>0</td>\n",
       "      <td>0</td>\n",
       "    </tr>\n",
       "    <tr>\n",
       "      <th>1</th>\n",
       "      <td>0</td>\n",
       "      <td>0</td>\n",
       "      <td>0</td>\n",
       "      <td>0</td>\n",
       "      <td>0</td>\n",
       "      <td>0</td>\n",
       "      <td>0</td>\n",
       "      <td>0</td>\n",
       "      <td>0</td>\n",
       "      <td>0</td>\n",
       "      <td>...</td>\n",
       "      <td>0</td>\n",
       "      <td>0</td>\n",
       "      <td>0</td>\n",
       "      <td>0</td>\n",
       "      <td>0</td>\n",
       "      <td>0</td>\n",
       "      <td>0</td>\n",
       "      <td>0</td>\n",
       "      <td>0</td>\n",
       "      <td>0</td>\n",
       "    </tr>\n",
       "    <tr>\n",
       "      <th>2</th>\n",
       "      <td>0</td>\n",
       "      <td>0</td>\n",
       "      <td>0</td>\n",
       "      <td>0</td>\n",
       "      <td>0</td>\n",
       "      <td>0</td>\n",
       "      <td>0</td>\n",
       "      <td>0</td>\n",
       "      <td>0</td>\n",
       "      <td>0</td>\n",
       "      <td>...</td>\n",
       "      <td>0</td>\n",
       "      <td>0</td>\n",
       "      <td>0</td>\n",
       "      <td>0</td>\n",
       "      <td>0</td>\n",
       "      <td>0</td>\n",
       "      <td>0</td>\n",
       "      <td>0</td>\n",
       "      <td>0</td>\n",
       "      <td>0</td>\n",
       "    </tr>\n",
       "    <tr>\n",
       "      <th>3</th>\n",
       "      <td>0</td>\n",
       "      <td>0</td>\n",
       "      <td>0</td>\n",
       "      <td>0</td>\n",
       "      <td>0</td>\n",
       "      <td>0</td>\n",
       "      <td>0</td>\n",
       "      <td>0</td>\n",
       "      <td>0</td>\n",
       "      <td>0</td>\n",
       "      <td>...</td>\n",
       "      <td>0</td>\n",
       "      <td>0</td>\n",
       "      <td>0</td>\n",
       "      <td>0</td>\n",
       "      <td>0</td>\n",
       "      <td>0</td>\n",
       "      <td>0</td>\n",
       "      <td>0</td>\n",
       "      <td>0</td>\n",
       "      <td>0</td>\n",
       "    </tr>\n",
       "    <tr>\n",
       "      <th>4</th>\n",
       "      <td>0</td>\n",
       "      <td>0</td>\n",
       "      <td>0</td>\n",
       "      <td>0</td>\n",
       "      <td>1</td>\n",
       "      <td>0</td>\n",
       "      <td>0</td>\n",
       "      <td>0</td>\n",
       "      <td>0</td>\n",
       "      <td>0</td>\n",
       "      <td>...</td>\n",
       "      <td>0</td>\n",
       "      <td>1</td>\n",
       "      <td>0</td>\n",
       "      <td>0</td>\n",
       "      <td>0</td>\n",
       "      <td>0</td>\n",
       "      <td>0</td>\n",
       "      <td>0</td>\n",
       "      <td>0</td>\n",
       "      <td>0</td>\n",
       "    </tr>\n",
       "  </tbody>\n",
       "</table>\n",
       "<p>5 rows × 5000 columns</p>\n",
       "</div>"
      ],
      "text/plain": [
       "   abandoned  abc  abilities  ability  able  abraham  absence  absent  \\\n",
       "0          0    0          0        0     0        0        0       0   \n",
       "1          0    0          0        0     0        0        0       0   \n",
       "2          0    0          0        0     0        0        0       0   \n",
       "3          0    0          0        0     0        0        0       0   \n",
       "4          0    0          0        0     1        0        0       0   \n",
       "\n",
       "   absolute  absolutely  ...  york  young  younger  youngest  youth  zero  \\\n",
       "0         0           0  ...     0      0        0         0      0     0   \n",
       "1         0           0  ...     0      0        0         0      0     0   \n",
       "2         0           0  ...     0      0        0         0      0     0   \n",
       "3         0           0  ...     0      0        0         0      0     0   \n",
       "4         0           0  ...     0      1        0         0      0     0   \n",
       "\n",
       "   zizek  zombie  zombies  zone  \n",
       "0      0       0        0     0  \n",
       "1      0       0        0     0  \n",
       "2      0       0        0     0  \n",
       "3      0       0        0     0  \n",
       "4      0       0        0     0  \n",
       "\n",
       "[5 rows x 5000 columns]"
      ]
     },
     "execution_count": 93,
     "metadata": {},
     "output_type": "execute_result"
    }
   ],
   "source": [
    "train_features.head()"
   ]
  },
  {
   "cell_type": "code",
   "execution_count": 94,
   "metadata": {},
   "outputs": [
    {
     "data": {
      "text/plain": [
       "abandoned        149\n",
       "abc              105\n",
       "abilities         87\n",
       "ability          353\n",
       "able            1026\n",
       "abraham           64\n",
       "absence           96\n",
       "absent            65\n",
       "absolute         280\n",
       "absolutely      1208\n",
       "absurd           250\n",
       "abuse            152\n",
       "abusive           70\n",
       "abysmal           77\n",
       "academy          246\n",
       "accent           392\n",
       "accents          170\n",
       "accept           241\n",
       "acceptable        96\n",
       "accepted         119\n",
       "access            78\n",
       "accident         271\n",
       "accidentally     156\n",
       "acclaimed         63\n",
       "accompanied       68\n",
       "accomplished      94\n",
       "according        227\n",
       "account          141\n",
       "accuracy          64\n",
       "accurate         229\n",
       "                ... \n",
       "writer           931\n",
       "writers          533\n",
       "writes            73\n",
       "writing         1024\n",
       "written         1329\n",
       "wrong           1488\n",
       "wrote            469\n",
       "ww                74\n",
       "wwe               65\n",
       "wwii             129\n",
       "ya                85\n",
       "yeah             355\n",
       "year            1867\n",
       "years           3622\n",
       "yelling           63\n",
       "yellow            91\n",
       "yes             1232\n",
       "yesterday         94\n",
       "yet             2190\n",
       "yeti              63\n",
       "york             645\n",
       "young           2967\n",
       "younger          416\n",
       "youngest          67\n",
       "youth            223\n",
       "zero             293\n",
       "zizek             70\n",
       "zombie           574\n",
       "zombies          374\n",
       "zone             115\n",
       "Length: 5000, dtype: int64"
      ]
     },
     "execution_count": 94,
     "metadata": {},
     "output_type": "execute_result"
    }
   ],
   "source": [
    "train_features.sum(axis=0)"
   ]
  },
  {
   "cell_type": "markdown",
   "metadata": {},
   "source": [
    "# Train a random forest model"
   ]
  },
  {
   "cell_type": "code",
   "execution_count": 106,
   "metadata": {},
   "outputs": [],
   "source": [
    "from sklearn.ensemble import RandomForestClassifier\n",
    "from sklearn.metrics import r2_score, confusion_matrix"
   ]
  },
  {
   "cell_type": "code",
   "execution_count": 95,
   "metadata": {},
   "outputs": [],
   "source": [
    "forest = RandomForestClassifier(n_estimators=100)\n",
    "model = forest.fit(train_features, train['sentiment'])"
   ]
  },
  {
   "cell_type": "markdown",
   "metadata": {},
   "source": [
    "# Evaluate model"
   ]
  },
  {
   "cell_type": "code",
   "execution_count": 96,
   "metadata": {},
   "outputs": [
    {
     "data": {
      "text/plain": [
       "(5000, 3)"
      ]
     },
     "execution_count": 96,
     "metadata": {},
     "output_type": "execute_result"
    }
   ],
   "source": [
    "validation.shape"
   ]
  },
  {
   "cell_type": "code",
   "execution_count": 97,
   "metadata": {},
   "outputs": [
    {
     "name": "stderr",
     "output_type": "stream",
     "text": [
      "/anaconda3/envs/kaggle_nlp/lib/python3.7/site-packages/ipykernel_launcher.py:1: SettingWithCopyWarning: \n",
      "A value is trying to be set on a copy of a slice from a DataFrame.\n",
      "Try using .loc[row_indexer,col_indexer] = value instead\n",
      "\n",
      "See the caveats in the documentation: http://pandas.pydata.org/pandas-docs/stable/indexing.html#indexing-view-versus-copy\n",
      "  \"\"\"Entry point for launching an IPython kernel.\n"
     ]
    }
   ],
   "source": [
    "validation['clean_review'] = validation.review.apply(clean_and_process_text)\n",
    "validation_features = vectorizer.transform(validation['clean_review'])\n",
    "validation_features = pd.DataFrame(validation_features.toarray())\n",
    "validation_features.columns = vectorizer.get_feature_names()"
   ]
  },
  {
   "cell_type": "code",
   "execution_count": 98,
   "metadata": {},
   "outputs": [
    {
     "data": {
      "text/html": [
       "<div>\n",
       "<style scoped>\n",
       "    .dataframe tbody tr th:only-of-type {\n",
       "        vertical-align: middle;\n",
       "    }\n",
       "\n",
       "    .dataframe tbody tr th {\n",
       "        vertical-align: top;\n",
       "    }\n",
       "\n",
       "    .dataframe thead th {\n",
       "        text-align: right;\n",
       "    }\n",
       "</style>\n",
       "<table border=\"1\" class=\"dataframe\">\n",
       "  <thead>\n",
       "    <tr style=\"text-align: right;\">\n",
       "      <th></th>\n",
       "      <th>abandoned</th>\n",
       "      <th>abc</th>\n",
       "      <th>abilities</th>\n",
       "      <th>ability</th>\n",
       "      <th>able</th>\n",
       "      <th>abraham</th>\n",
       "      <th>absence</th>\n",
       "      <th>absent</th>\n",
       "      <th>absolute</th>\n",
       "      <th>absolutely</th>\n",
       "      <th>...</th>\n",
       "      <th>york</th>\n",
       "      <th>young</th>\n",
       "      <th>younger</th>\n",
       "      <th>youngest</th>\n",
       "      <th>youth</th>\n",
       "      <th>zero</th>\n",
       "      <th>zizek</th>\n",
       "      <th>zombie</th>\n",
       "      <th>zombies</th>\n",
       "      <th>zone</th>\n",
       "    </tr>\n",
       "  </thead>\n",
       "  <tbody>\n",
       "    <tr>\n",
       "      <th>0</th>\n",
       "      <td>0</td>\n",
       "      <td>0</td>\n",
       "      <td>0</td>\n",
       "      <td>0</td>\n",
       "      <td>0</td>\n",
       "      <td>0</td>\n",
       "      <td>0</td>\n",
       "      <td>0</td>\n",
       "      <td>0</td>\n",
       "      <td>0</td>\n",
       "      <td>...</td>\n",
       "      <td>0</td>\n",
       "      <td>0</td>\n",
       "      <td>0</td>\n",
       "      <td>0</td>\n",
       "      <td>0</td>\n",
       "      <td>0</td>\n",
       "      <td>0</td>\n",
       "      <td>0</td>\n",
       "      <td>0</td>\n",
       "      <td>0</td>\n",
       "    </tr>\n",
       "    <tr>\n",
       "      <th>1</th>\n",
       "      <td>0</td>\n",
       "      <td>0</td>\n",
       "      <td>0</td>\n",
       "      <td>0</td>\n",
       "      <td>0</td>\n",
       "      <td>0</td>\n",
       "      <td>0</td>\n",
       "      <td>0</td>\n",
       "      <td>0</td>\n",
       "      <td>0</td>\n",
       "      <td>...</td>\n",
       "      <td>0</td>\n",
       "      <td>0</td>\n",
       "      <td>0</td>\n",
       "      <td>0</td>\n",
       "      <td>0</td>\n",
       "      <td>0</td>\n",
       "      <td>0</td>\n",
       "      <td>0</td>\n",
       "      <td>0</td>\n",
       "      <td>0</td>\n",
       "    </tr>\n",
       "    <tr>\n",
       "      <th>2</th>\n",
       "      <td>0</td>\n",
       "      <td>0</td>\n",
       "      <td>0</td>\n",
       "      <td>0</td>\n",
       "      <td>0</td>\n",
       "      <td>0</td>\n",
       "      <td>0</td>\n",
       "      <td>0</td>\n",
       "      <td>0</td>\n",
       "      <td>0</td>\n",
       "      <td>...</td>\n",
       "      <td>0</td>\n",
       "      <td>0</td>\n",
       "      <td>0</td>\n",
       "      <td>0</td>\n",
       "      <td>0</td>\n",
       "      <td>0</td>\n",
       "      <td>0</td>\n",
       "      <td>0</td>\n",
       "      <td>0</td>\n",
       "      <td>0</td>\n",
       "    </tr>\n",
       "    <tr>\n",
       "      <th>3</th>\n",
       "      <td>0</td>\n",
       "      <td>0</td>\n",
       "      <td>0</td>\n",
       "      <td>0</td>\n",
       "      <td>0</td>\n",
       "      <td>0</td>\n",
       "      <td>0</td>\n",
       "      <td>0</td>\n",
       "      <td>0</td>\n",
       "      <td>0</td>\n",
       "      <td>...</td>\n",
       "      <td>1</td>\n",
       "      <td>0</td>\n",
       "      <td>0</td>\n",
       "      <td>0</td>\n",
       "      <td>0</td>\n",
       "      <td>0</td>\n",
       "      <td>0</td>\n",
       "      <td>0</td>\n",
       "      <td>0</td>\n",
       "      <td>0</td>\n",
       "    </tr>\n",
       "    <tr>\n",
       "      <th>4</th>\n",
       "      <td>0</td>\n",
       "      <td>0</td>\n",
       "      <td>0</td>\n",
       "      <td>1</td>\n",
       "      <td>0</td>\n",
       "      <td>0</td>\n",
       "      <td>0</td>\n",
       "      <td>0</td>\n",
       "      <td>1</td>\n",
       "      <td>0</td>\n",
       "      <td>...</td>\n",
       "      <td>0</td>\n",
       "      <td>0</td>\n",
       "      <td>0</td>\n",
       "      <td>0</td>\n",
       "      <td>0</td>\n",
       "      <td>0</td>\n",
       "      <td>0</td>\n",
       "      <td>0</td>\n",
       "      <td>0</td>\n",
       "      <td>0</td>\n",
       "    </tr>\n",
       "  </tbody>\n",
       "</table>\n",
       "<p>5 rows × 5000 columns</p>\n",
       "</div>"
      ],
      "text/plain": [
       "   abandoned  abc  abilities  ability  able  abraham  absence  absent  \\\n",
       "0          0    0          0        0     0        0        0       0   \n",
       "1          0    0          0        0     0        0        0       0   \n",
       "2          0    0          0        0     0        0        0       0   \n",
       "3          0    0          0        0     0        0        0       0   \n",
       "4          0    0          0        1     0        0        0       0   \n",
       "\n",
       "   absolute  absolutely  ...  york  young  younger  youngest  youth  zero  \\\n",
       "0         0           0  ...     0      0        0         0      0     0   \n",
       "1         0           0  ...     0      0        0         0      0     0   \n",
       "2         0           0  ...     0      0        0         0      0     0   \n",
       "3         0           0  ...     1      0        0         0      0     0   \n",
       "4         1           0  ...     0      0        0         0      0     0   \n",
       "\n",
       "   zizek  zombie  zombies  zone  \n",
       "0      0       0        0     0  \n",
       "1      0       0        0     0  \n",
       "2      0       0        0     0  \n",
       "3      0       0        0     0  \n",
       "4      0       0        0     0  \n",
       "\n",
       "[5 rows x 5000 columns]"
      ]
     },
     "execution_count": 98,
     "metadata": {},
     "output_type": "execute_result"
    }
   ],
   "source": [
    "validation_features.head()"
   ]
  },
  {
   "cell_type": "code",
   "execution_count": 99,
   "metadata": {},
   "outputs": [],
   "source": [
    "result = model.predict(validation_features)"
   ]
  },
  {
   "cell_type": "code",
   "execution_count": 117,
   "metadata": {},
   "outputs": [
    {
     "name": "stdout",
     "output_type": "stream",
     "text": [
      "0.40798853865810847\n",
      "[[2152  337]\n",
      " [ 403 2108]]\n"
     ]
    }
   ],
   "source": [
    "print(r2_score(validation.sentiment, result))\n",
    "print(confusion_matrix(validation.sentiment, result))"
   ]
  },
  {
   "cell_type": "code",
   "execution_count": null,
   "metadata": {},
   "outputs": [],
   "source": []
  }
 ],
 "metadata": {
  "kernelspec": {
   "display_name": "Python 3",
   "language": "python",
   "name": "python3"
  },
  "language_info": {
   "codemirror_mode": {
    "name": "ipython",
    "version": 3
   },
   "file_extension": ".py",
   "mimetype": "text/x-python",
   "name": "python",
   "nbconvert_exporter": "python",
   "pygments_lexer": "ipython3",
   "version": "3.7.2"
  }
 },
 "nbformat": 4,
 "nbformat_minor": 2
}
